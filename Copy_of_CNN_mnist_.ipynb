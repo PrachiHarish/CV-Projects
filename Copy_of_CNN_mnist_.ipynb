{
  "nbformat": 4,
  "nbformat_minor": 0,
  "metadata": {
    "colab": {
      "provenance": [],
      "gpuType": "T4",
      "include_colab_link": true
    },
    "kernelspec": {
      "name": "python3",
      "display_name": "Python 3"
    },
    "language_info": {
      "name": "python"
    },
    "accelerator": "GPU"
  },
  "cells": [
    {
      "cell_type": "markdown",
      "metadata": {
        "id": "view-in-github",
        "colab_type": "text"
      },
      "source": [
        "<a href=\"https://colab.research.google.com/github/PrachiHarish/CV-Projects/blob/main/Copy_of_CNN_mnist_.ipynb\" target=\"_parent\"><img src=\"https://colab.research.google.com/assets/colab-badge.svg\" alt=\"Open In Colab\"/></a>"
      ]
    },
    {
      "cell_type": "code",
      "execution_count": null,
      "metadata": {
        "id": "5EZmv1UtWrPJ"
      },
      "outputs": [],
      "source": [
        "import tensorflow as tf\n",
        "from tensorflow.keras.models import Sequential,Model\n",
        "from tensorflow.keras.layers import*\n",
        "from tensorflow.keras import backend as K\n",
        "from tensorflow.keras.optimizers import Adam,SGD\n",
        "from tensorflow.keras.utils import to_categorical\n",
        "from tensorflow.keras.datasets import mnist\n",
        "from tensorflow.keras.optimizers import RMSprop\n",
        "\n",
        "import pandas as pd\n",
        "import numpy as np\n",
        "import matplotlib.pyplot as plt"
      ]
    },
    {
      "cell_type": "code",
      "source": [
        "pip show keras"
      ],
      "metadata": {
        "colab": {
          "base_uri": "https://localhost:8080/"
        },
        "id": "Rljr8pAYX4Wz",
        "outputId": "1657aa9c-fdd8-4bf2-d388-930021c8b920"
      },
      "execution_count": null,
      "outputs": [
        {
          "output_type": "stream",
          "name": "stdout",
          "text": [
            "Name: keras\n",
            "Version: 2.15.0\n",
            "Summary: Deep learning for humans.\n",
            "Home-page: https://keras.io/\n",
            "Author: Keras team\n",
            "Author-email: keras-users@googlegroups.com\n",
            "License: Apache 2.0\n",
            "Location: /usr/local/lib/python3.10/dist-packages\n",
            "Requires: \n",
            "Required-by: tensorflow\n"
          ]
        }
      ]
    },
    {
      "cell_type": "code",
      "source": [
        "pip show tensorflow"
      ],
      "metadata": {
        "colab": {
          "base_uri": "https://localhost:8080/"
        },
        "id": "xiN_KK40X8hA",
        "outputId": "079580c5-f295-48f2-bd6a-bd8cea7b1fe2"
      },
      "execution_count": null,
      "outputs": [
        {
          "output_type": "stream",
          "name": "stdout",
          "text": [
            "Name: tensorflow\n",
            "Version: 2.15.0\n",
            "Summary: TensorFlow is an open source machine learning framework for everyone.\n",
            "Home-page: https://www.tensorflow.org/\n",
            "Author: Google Inc.\n",
            "Author-email: packages@tensorflow.org\n",
            "License: Apache 2.0\n",
            "Location: /usr/local/lib/python3.10/dist-packages\n",
            "Requires: absl-py, astunparse, flatbuffers, gast, google-pasta, grpcio, h5py, keras, libclang, ml-dtypes, numpy, opt-einsum, packaging, protobuf, setuptools, six, tensorboard, tensorflow-estimator, tensorflow-io-gcs-filesystem, termcolor, typing-extensions, wrapt\n",
            "Required-by: dopamine_rl, tf_keras\n"
          ]
        }
      ]
    },
    {
      "cell_type": "code",
      "source": [
        "(x_train,y_train),(x_test,y_test)=mnist.load_data()\n",
        "print(x_train.shape)\n",
        "print(x_test.shape)\n",
        "print(y_train.shape)\n",
        "print(y_test.shape)\n",
        "# print(x_train[3])\n",
        "# print(y_train[0])\n",
        "# plt.imshow(x_train[10],cmap=plt.get_cmap(\"gray\"))\n",
        "# plt.imshow(x_train[10])\n",
        "\n"
      ],
      "metadata": {
        "colab": {
          "base_uri": "https://localhost:8080/"
        },
        "id": "R34aULEQYC1g",
        "outputId": "0ceae114-c9b3-4c19-948c-da14b64c9c3c"
      },
      "execution_count": null,
      "outputs": [
        {
          "output_type": "stream",
          "name": "stdout",
          "text": [
            "Downloading data from https://storage.googleapis.com/tensorflow/tf-keras-datasets/mnist.npz\n",
            "11490434/11490434 [==============================] - 0s 0us/step\n",
            "(60000, 28, 28)\n",
            "(10000, 28, 28)\n",
            "(60000,)\n",
            "(10000,)\n"
          ]
        }
      ]
    },
    {
      "cell_type": "code",
      "source": [
        "# Plot 5 images as gray scale from train and test datasets\n",
        "plt.subplot(2,5,1)\n",
        "plt.imshow(x_train[0],cmap=plt.get_cmap(\"gray\"))\n",
        "plt.axis(\"off\")\n",
        "plt.subplot(2,5,2)\n",
        "plt.imshow(x_train[1],cmap=plt.get_cmap(\"gray\"))\n",
        "plt.axis(\"off\")\n",
        "plt.subplot(2,5,3)\n",
        "plt.imshow(x_train[2],cmap=plt.get_cmap(\"gray\"))\n",
        "plt.axis(\"off\")\n",
        "plt.subplot(2,5,4)\n",
        "plt.imshow(x_train[3],cmap=plt.get_cmap(\"gray\"))\n",
        "plt.axis(\"off\")\n",
        "plt.subplot(2,5,5)\n",
        "plt.imshow(x_train[4],cmap=plt.get_cmap(\"gray\"))\n",
        "plt.axis(\"off\")\n",
        "plt.subplot(2,5,6)\n",
        "plt.imshow(x_test[0],cmap=plt.get_cmap(\"gray\"))\n",
        "plt.axis(\"off\")\n",
        "plt.subplot(2,5,7)\n",
        "plt.imshow(x_test[1],cmap=plt.get_cmap(\"gray\"))\n",
        "plt.axis(\"off\")\n",
        "plt.subplot(2,5,8)\n",
        "plt.imshow(x_test[2],cmap=plt.get_cmap(\"gray\"))\n",
        "plt.axis(\"off\")\n",
        "plt.subplot(2,5,9)\n",
        "plt.imshow(x_test[3],cmap=plt.get_cmap(\"gray\"))\n",
        "plt.axis(\"off\")\n",
        "plt.subplot(2,5,10)\n",
        "plt.imshow(x_test[4],cmap=plt.get_cmap(\"gray\"))\n",
        "plt.axis(\"off\")\n"
      ],
      "metadata": {
        "colab": {
          "base_uri": "https://localhost:8080/",
          "height": 341
        },
        "id": "sBmTRLylZL5X",
        "outputId": "d431ff8c-b6de-4b3e-971a-f4b07257d085"
      },
      "execution_count": null,
      "outputs": [
        {
          "output_type": "execute_result",
          "data": {
            "text/plain": [
              "(-0.5, 27.5, 27.5, -0.5)"
            ]
          },
          "metadata": {},
          "execution_count": 5
        },
        {
          "output_type": "display_data",
          "data": {
            "text/plain": [
              "<Figure size 640x480 with 10 Axes>"
            ],
            "image/png": "[encoded data removed]"
          },
          "metadata": {}
        }
      ]
    },
    {
      "cell_type": "code",
      "source": [
        "# set numeric type to float32 from unit8\n",
        "# It reduces memory requirements by forcing the precision of the pixel values to be 32 bit\n",
        "trainX=x_train.astype(\"float32\")\n",
        "testX=x_test.astype(\"float32\")\n",
        "# print(trainX[0])\n",
        "\n",
        "# Normalize the value to [0,1]\n",
        "trainX /=255\n",
        "testX /=255\n",
        "# print(trainX[0])\n",
        "\n",
        "# Transform labels to one-hot encoding-convert 1-dimensional class arrays to 10-dimensions\n",
        "#one-hot encode the lanels  - we have 10 output classes\n",
        "# so \"0\" --> [1 0 0 0 0 0 0 0 0 0]; \"1\" --> [0 1 0 0 0 0 0 0 0 0]\n",
        "y_train=tf.keras.utils.to_categorical(y_train,10)\n",
        "y_test=tf.keras.utils.to_categorical(y_test,10)\n",
        "# print(y_train[0])\n",
        "print(y_train.shape)\n",
        "print(y_test.shape)\n",
        "print(\"one-hot encoded target training dataset\")\n",
        "print(y_train[0:5,])\n",
        "print(\"one-hot encoded traget test dataset\")\n",
        "print(y_test[0:5,])"
      ],
      "metadata": {
        "colab": {
          "base_uri": "https://localhost:8080/"
        },
        "id": "gQViCXWJgMFx",
        "outputId": "16f7f256-8f32-49fa-b00c-0a18f5e4b11c"
      },
      "execution_count": null,
      "outputs": [
        {
          "output_type": "stream",
          "name": "stdout",
          "text": [
            "(60000, 10)\n",
            "(10000, 10)\n",
            "one-hot encoded target training dataset\n",
            "[[0. 0. 0. 0. 0. 1. 0. 0. 0. 0.]\n",
            " [1. 0. 0. 0. 0. 0. 0. 0. 0. 0.]\n",
            " [0. 0. 0. 0. 1. 0. 0. 0. 0. 0.]\n",
            " [0. 1. 0. 0. 0. 0. 0. 0. 0. 0.]\n",
            " [0. 0. 0. 0. 0. 0. 0. 0. 0. 1.]]\n",
            "one-hot encoded traget test dataset\n",
            "[[0. 0. 0. 0. 0. 0. 0. 1. 0. 0.]\n",
            " [0. 0. 1. 0. 0. 0. 0. 0. 0. 0.]\n",
            " [0. 1. 0. 0. 0. 0. 0. 0. 0. 0.]\n",
            " [1. 0. 0. 0. 0. 0. 0. 0. 0. 0.]\n",
            " [0. 0. 0. 0. 1. 0. 0. 0. 0. 0.]]\n"
          ]
        }
      ]
    },
    {
      "cell_type": "code",
      "source": [
        "print(\"Before reshape x_train and x_test dataset: \")\n",
        "print(trainX.shape,testX.shape)\n",
        "\n",
        "# reshape the train and test dataset into 4D array\n",
        "x_train=trainX.reshape(trainX.shape[0],28,28,1)\n",
        "x_test=testX.reshape(testX.shape[0],28,28,1)\n",
        "print(\"After reshape x_train and x_test dataset\")\n",
        "print(x_train.shape,x_test.shape)\n"
      ],
      "metadata": {
        "colab": {
          "base_uri": "https://localhost:8080/"
        },
        "id": "YqfOn2j2keHC",
        "outputId": "438b9ff7-8896-4693-deb5-7e68e7b70566"
      },
      "execution_count": null,
      "outputs": [
        {
          "output_type": "stream",
          "name": "stdout",
          "text": [
            "Before reshape x_train and x_test dataset: \n",
            "(60000, 28, 28) (10000, 28, 28)\n",
            "After reshape x_train and x_test dataset\n",
            "(60000, 28, 28, 1) (10000, 28, 28, 1)\n"
          ]
        }
      ]
    },
    {
      "cell_type": "code",
      "source": [
        "# defining the CNN(LeNet5) model\n",
        "#Instantiate an empty model\n",
        "\n",
        "model=Sequential()\n",
        "\n",
        "#C1 Convolutional Layer\n",
        "model.add(Conv2D(6,kernel_size=(5,5),strides=(1,1),activation=\"tanh\",input_shape=(28,28,1),padding=\"valid\"))\n",
        "\n",
        "# S2 Pooling Layer\n",
        "model.add(AveragePooling2D(pool_size=(2,2),strides=(2,2),padding=\"valid\"))\n",
        "\n",
        "#C3 Convolutional Layer\n",
        "model.add(Conv2D(16,kernel_size=(5,5),strides=(1,1),activation=\"tanh\",padding=\"valid\"))\n",
        "\n",
        "#S4 Pooling Layer\n",
        "model.add(AveragePooling2D(pool_size=(2,2),strides=(2,2),padding=\"valid\"))\n",
        "\n",
        "#C5 Fully Connected Convolutional Layer\n",
        "model.add(Conv2D(120,kernel_size=(1,1),strides=(1,1),activation=\"tanh\",padding=\"valid\"))\n",
        "\n",
        "#Flatten the CNN output so that we can connect it with fully connected layers\n",
        "model.add(Flatten())\n",
        "\n",
        "# FC6 Fully Connected Layer\n",
        "model.add(Dense(84,activation=\"tanh\"))\n",
        "\n",
        "#Output Layer with Softmax activation\n",
        "model.add(Dense(10,activation=\"softmax\"))\n",
        "\n",
        "model.summary()\n"
      ],
      "metadata": {
        "colab": {
          "base_uri": "https://localhost:8080/"
        },
        "id": "X-ZMdg61lsAO",
        "outputId": "b5fd97ae-3114-4283-e3b2-64a4d8d0dd18"
      },
      "execution_count": null,
      "outputs": [
        {
          "output_type": "stream",
          "name": "stdout",
          "text": [
            "Model: \"sequential_11\"\n",
            "_________________________________________________________________\n",
            " Layer (type)                Output Shape              Param #   \n",
            "=================================================================\n",
            " conv2d_33 (Conv2D)          (None, 24, 24, 6)         156       \n",
            "                                                                 \n",
            " average_pooling2d_22 (Aver  (None, 12, 12, 6)         0         \n",
            " agePooling2D)                                                   \n",
            "                                                                 \n",
            " conv2d_34 (Conv2D)          (None, 8, 8, 16)          2416      \n",
            "                                                                 \n",
            " average_pooling2d_23 (Aver  (None, 4, 4, 16)          0         \n",
            " agePooling2D)                                                   \n",
            "                                                                 \n",
            " conv2d_35 (Conv2D)          (None, 4, 4, 120)         2040      \n",
            "                                                                 \n",
            " flatten_11 (Flatten)        (None, 1920)              0         \n",
            "                                                                 \n",
            " dense_22 (Dense)            (None, 84)                161364    \n",
            "                                                                 \n",
            " dense_23 (Dense)            (None, 10)                850       \n",
            "                                                                 \n",
            "=================================================================\n",
            "Total params: 166826 (651.66 KB)\n",
            "Trainable params: 166826 (651.66 KB)\n",
            "Non-trainable params: 0 (0.00 Byte)\n",
            "_________________________________________________________________\n"
          ]
        }
      ]
    },
    {
      "cell_type": "code",
      "source": [
        "# Compile the model\n",
        "optimizer = SGD(learning_rate=0.01)\n",
        "model.compile(optimizer=optimizer,loss=\"categorical_crossentropy\",metrics=[\"accuracy\"])\n",
        "\n",
        "#Fitting the model\n",
        "history=model.fit(x_train,y_train,epochs=75,batch_size=128,validation_data=(x_test,y_test),verbose=1)"
      ],
      "metadata": {
        "colab": {
          "base_uri": "https://localhost:8080/"
        },
        "id": "IJfGFmXDpz-I",
        "outputId": "d6a4c73e-ba60-453a-a1fb-943cf2853e06"
      },
      "execution_count": null,
      "outputs": [
        {
          "output_type": "stream",
          "name": "stdout",
          "text": [
            "Epoch 1/75\n",
            "469/469 [==============================] - 3s 5ms/step - loss: 1.2014 - accuracy: 0.7080 - val_loss: 0.5266 - val_accuracy: 0.8707\n",
            "Epoch 2/75\n",
            "469/469 [==============================] - 3s 5ms/step - loss: 0.4617 - accuracy: 0.8747 - val_loss: 0.3846 - val_accuracy: 0.8949\n",
            "Epoch 3/75\n",
            "469/469 [==============================] - 3s 5ms/step - loss: 0.3730 - accuracy: 0.8942 - val_loss: 0.3288 - val_accuracy: 0.9070\n",
            "Epoch 4/75\n",
            "469/469 [==============================] - 2s 5ms/step - loss: 0.3281 - accuracy: 0.9056 - val_loss: 0.2945 - val_accuracy: 0.9162\n",
            "Epoch 5/75\n",
            "469/469 [==============================] - 2s 5ms/step - loss: 0.2969 - accuracy: 0.9143 - val_loss: 0.2678 - val_accuracy: 0.9232\n",
            "Epoch 6/75\n",
            "469/469 [==============================] - 2s 5ms/step - loss: 0.2719 - accuracy: 0.9212 - val_loss: 0.2465 - val_accuracy: 0.9291\n",
            "Epoch 7/75\n",
            "469/469 [==============================] - 2s 5ms/step - loss: 0.2508 - accuracy: 0.9272 - val_loss: 0.2279 - val_accuracy: 0.9335\n",
            "Epoch 8/75\n",
            "469/469 [==============================] - 3s 6ms/step - loss: 0.2325 - accuracy: 0.9330 - val_loss: 0.2115 - val_accuracy: 0.9388\n",
            "Epoch 9/75\n",
            "469/469 [==============================] - 2s 5ms/step - loss: 0.2165 - accuracy: 0.9373 - val_loss: 0.1964 - val_accuracy: 0.9425\n",
            "Epoch 10/75\n",
            "469/469 [==============================] - 2s 4ms/step - loss: 0.2022 - accuracy: 0.9416 - val_loss: 0.1841 - val_accuracy: 0.9454\n",
            "Epoch 11/75\n",
            "469/469 [==============================] - 2s 4ms/step - loss: 0.1894 - accuracy: 0.9454 - val_loss: 0.1722 - val_accuracy: 0.9489\n",
            "Epoch 12/75\n",
            "469/469 [==============================] - 2s 5ms/step - loss: 0.1783 - accuracy: 0.9482 - val_loss: 0.1626 - val_accuracy: 0.9532\n",
            "Epoch 13/75\n",
            "469/469 [==============================] - 3s 6ms/step - loss: 0.1683 - accuracy: 0.9513 - val_loss: 0.1528 - val_accuracy: 0.9544\n",
            "Epoch 14/75\n",
            "469/469 [==============================] - 2s 5ms/step - loss: 0.1593 - accuracy: 0.9543 - val_loss: 0.1456 - val_accuracy: 0.9563\n",
            "Epoch 15/75\n",
            "469/469 [==============================] - 2s 5ms/step - loss: 0.1512 - accuracy: 0.9565 - val_loss: 0.1383 - val_accuracy: 0.9597\n",
            "Epoch 16/75\n",
            "469/469 [==============================] - 2s 5ms/step - loss: 0.1438 - accuracy: 0.9586 - val_loss: 0.1313 - val_accuracy: 0.9614\n",
            "Epoch 17/75\n",
            "469/469 [==============================] - 2s 5ms/step - loss: 0.1374 - accuracy: 0.9603 - val_loss: 0.1250 - val_accuracy: 0.9631\n",
            "Epoch 18/75\n",
            "469/469 [==============================] - 3s 6ms/step - loss: 0.1314 - accuracy: 0.9620 - val_loss: 0.1203 - val_accuracy: 0.9646\n",
            "Epoch 19/75\n",
            "469/469 [==============================] - 3s 6ms/step - loss: 0.1259 - accuracy: 0.9634 - val_loss: 0.1149 - val_accuracy: 0.9658\n",
            "Epoch 20/75\n",
            "469/469 [==============================] - 2s 5ms/step - loss: 0.1209 - accuracy: 0.9652 - val_loss: 0.1108 - val_accuracy: 0.9676\n",
            "Epoch 21/75\n",
            "469/469 [==============================] - 2s 5ms/step - loss: 0.1163 - accuracy: 0.9665 - val_loss: 0.1074 - val_accuracy: 0.9683\n",
            "Epoch 22/75\n",
            "469/469 [==============================] - 2s 5ms/step - loss: 0.1122 - accuracy: 0.9677 - val_loss: 0.1026 - val_accuracy: 0.9695\n",
            "Epoch 23/75\n",
            "469/469 [==============================] - 2s 5ms/step - loss: 0.1083 - accuracy: 0.9686 - val_loss: 0.0993 - val_accuracy: 0.9699\n",
            "Epoch 24/75\n",
            "469/469 [==============================] - 3s 6ms/step - loss: 0.1047 - accuracy: 0.9698 - val_loss: 0.0963 - val_accuracy: 0.9712\n",
            "Epoch 25/75\n",
            "469/469 [==============================] - 2s 5ms/step - loss: 0.1015 - accuracy: 0.9711 - val_loss: 0.0937 - val_accuracy: 0.9711\n",
            "Epoch 26/75\n",
            "469/469 [==============================] - 2s 5ms/step - loss: 0.0982 - accuracy: 0.9719 - val_loss: 0.0903 - val_accuracy: 0.9736\n",
            "Epoch 27/75\n",
            "469/469 [==============================] - 2s 5ms/step - loss: 0.0955 - accuracy: 0.9727 - val_loss: 0.0874 - val_accuracy: 0.9735\n",
            "Epoch 28/75\n",
            "469/469 [==============================] - 2s 5ms/step - loss: 0.0927 - accuracy: 0.9734 - val_loss: 0.0863 - val_accuracy: 0.9749\n",
            "Epoch 29/75\n",
            "469/469 [==============================] - 3s 6ms/step - loss: 0.0903 - accuracy: 0.9742 - val_loss: 0.0830 - val_accuracy: 0.9752\n",
            "Epoch 30/75\n",
            "469/469 [==============================] - 3s 5ms/step - loss: 0.0879 - accuracy: 0.9750 - val_loss: 0.0812 - val_accuracy: 0.9763\n",
            "Epoch 31/75\n",
            "469/469 [==============================] - 2s 5ms/step - loss: 0.0857 - accuracy: 0.9754 - val_loss: 0.0786 - val_accuracy: 0.9765\n",
            "Epoch 32/75\n",
            "469/469 [==============================] - 2s 5ms/step - loss: 0.0836 - accuracy: 0.9761 - val_loss: 0.0778 - val_accuracy: 0.9770\n",
            "Epoch 33/75\n",
            "469/469 [==============================] - 2s 5ms/step - loss: 0.0816 - accuracy: 0.9766 - val_loss: 0.0759 - val_accuracy: 0.9772\n",
            "Epoch 34/75\n",
            "469/469 [==============================] - 2s 5ms/step - loss: 0.0798 - accuracy: 0.9772 - val_loss: 0.0739 - val_accuracy: 0.9777\n",
            "Epoch 35/75\n",
            "469/469 [==============================] - 3s 6ms/step - loss: 0.0780 - accuracy: 0.9778 - val_loss: 0.0724 - val_accuracy: 0.9785\n",
            "Epoch 36/75\n",
            "469/469 [==============================] - 2s 5ms/step - loss: 0.0763 - accuracy: 0.9784 - val_loss: 0.0715 - val_accuracy: 0.9784\n",
            "Epoch 37/75\n",
            "469/469 [==============================] - 2s 5ms/step - loss: 0.0748 - accuracy: 0.9784 - val_loss: 0.0693 - val_accuracy: 0.9794\n",
            "Epoch 38/75\n",
            "469/469 [==============================] - 2s 5ms/step - loss: 0.0734 - accuracy: 0.9790 - val_loss: 0.0682 - val_accuracy: 0.9800\n",
            "Epoch 39/75\n",
            "469/469 [==============================] - 2s 5ms/step - loss: 0.0720 - accuracy: 0.9793 - val_loss: 0.0670 - val_accuracy: 0.9799\n",
            "Epoch 40/75\n",
            "469/469 [==============================] - 3s 6ms/step - loss: 0.0706 - accuracy: 0.9795 - val_loss: 0.0656 - val_accuracy: 0.9808\n",
            "Epoch 41/75\n",
            "469/469 [==============================] - 2s 5ms/step - loss: 0.0692 - accuracy: 0.9802 - val_loss: 0.0646 - val_accuracy: 0.9809\n",
            "Epoch 42/75\n",
            "469/469 [==============================] - 2s 5ms/step - loss: 0.0681 - accuracy: 0.9805 - val_loss: 0.0639 - val_accuracy: 0.9815\n",
            "Epoch 43/75\n",
            "469/469 [==============================] - 2s 5ms/step - loss: 0.0670 - accuracy: 0.9808 - val_loss: 0.0627 - val_accuracy: 0.9815\n",
            "Epoch 44/75\n",
            "469/469 [==============================] - 2s 5ms/step - loss: 0.0658 - accuracy: 0.9807 - val_loss: 0.0620 - val_accuracy: 0.9817\n",
            "Epoch 45/75\n",
            "469/469 [==============================] - 3s 6ms/step - loss: 0.0647 - accuracy: 0.9812 - val_loss: 0.0608 - val_accuracy: 0.9818\n",
            "Epoch 46/75\n",
            "469/469 [==============================] - 2s 5ms/step - loss: 0.0636 - accuracy: 0.9815 - val_loss: 0.0601 - val_accuracy: 0.9822\n",
            "Epoch 47/75\n",
            "469/469 [==============================] - 2s 5ms/step - loss: 0.0627 - accuracy: 0.9817 - val_loss: 0.0592 - val_accuracy: 0.9825\n",
            "Epoch 48/75\n",
            "469/469 [==============================] - 2s 5ms/step - loss: 0.0617 - accuracy: 0.9822 - val_loss: 0.0590 - val_accuracy: 0.9821\n",
            "Epoch 49/75\n",
            "469/469 [==============================] - 2s 5ms/step - loss: 0.0608 - accuracy: 0.9824 - val_loss: 0.0577 - val_accuracy: 0.9829\n",
            "Epoch 50/75\n",
            "469/469 [==============================] - 3s 5ms/step - loss: 0.0599 - accuracy: 0.9822 - val_loss: 0.0570 - val_accuracy: 0.9824\n",
            "Epoch 51/75\n",
            "469/469 [==============================] - 2s 5ms/step - loss: 0.0590 - accuracy: 0.9827 - val_loss: 0.0564 - val_accuracy: 0.9834\n",
            "Epoch 52/75\n",
            "469/469 [==============================] - 2s 5ms/step - loss: 0.0582 - accuracy: 0.9829 - val_loss: 0.0556 - val_accuracy: 0.9835\n",
            "Epoch 53/75\n",
            "469/469 [==============================] - 2s 5ms/step - loss: 0.0574 - accuracy: 0.9831 - val_loss: 0.0549 - val_accuracy: 0.9838\n",
            "Epoch 54/75\n",
            "469/469 [==============================] - 2s 5ms/step - loss: 0.0566 - accuracy: 0.9833 - val_loss: 0.0547 - val_accuracy: 0.9834\n",
            "Epoch 55/75\n",
            "469/469 [==============================] - 2s 5ms/step - loss: 0.0559 - accuracy: 0.9836 - val_loss: 0.0541 - val_accuracy: 0.9838\n",
            "Epoch 56/75\n",
            "469/469 [==============================] - 3s 6ms/step - loss: 0.0552 - accuracy: 0.9835 - val_loss: 0.0533 - val_accuracy: 0.9838\n",
            "Epoch 57/75\n",
            "469/469 [==============================] - 2s 5ms/step - loss: 0.0545 - accuracy: 0.9839 - val_loss: 0.0532 - val_accuracy: 0.9834\n",
            "Epoch 58/75\n",
            "469/469 [==============================] - 2s 5ms/step - loss: 0.0538 - accuracy: 0.9842 - val_loss: 0.0521 - val_accuracy: 0.9844\n",
            "Epoch 59/75\n",
            "469/469 [==============================] - 2s 5ms/step - loss: 0.0531 - accuracy: 0.9843 - val_loss: 0.0520 - val_accuracy: 0.9843\n",
            "Epoch 60/75\n",
            "469/469 [==============================] - 2s 5ms/step - loss: 0.0525 - accuracy: 0.9845 - val_loss: 0.0512 - val_accuracy: 0.9845\n",
            "Epoch 61/75\n",
            "469/469 [==============================] - 3s 6ms/step - loss: 0.0519 - accuracy: 0.9847 - val_loss: 0.0508 - val_accuracy: 0.9850\n",
            "Epoch 62/75\n",
            "469/469 [==============================] - 2s 5ms/step - loss: 0.0513 - accuracy: 0.9851 - val_loss: 0.0507 - val_accuracy: 0.9841\n",
            "Epoch 63/75\n",
            "469/469 [==============================] - 2s 5ms/step - loss: 0.0506 - accuracy: 0.9851 - val_loss: 0.0498 - val_accuracy: 0.9844\n",
            "Epoch 64/75\n",
            "469/469 [==============================] - 2s 5ms/step - loss: 0.0500 - accuracy: 0.9853 - val_loss: 0.0493 - val_accuracy: 0.9846\n",
            "Epoch 65/75\n",
            "469/469 [==============================] - 2s 5ms/step - loss: 0.0495 - accuracy: 0.9856 - val_loss: 0.0492 - val_accuracy: 0.9843\n",
            "Epoch 66/75\n",
            "469/469 [==============================] - 2s 5ms/step - loss: 0.0489 - accuracy: 0.9857 - val_loss: 0.0487 - val_accuracy: 0.9848\n",
            "Epoch 67/75\n",
            "469/469 [==============================] - 3s 5ms/step - loss: 0.0484 - accuracy: 0.9859 - val_loss: 0.0480 - val_accuracy: 0.9850\n",
            "Epoch 68/75\n",
            "469/469 [==============================] - 2s 5ms/step - loss: 0.0479 - accuracy: 0.9861 - val_loss: 0.0477 - val_accuracy: 0.9846\n",
            "Epoch 69/75\n",
            "469/469 [==============================] - 2s 5ms/step - loss: 0.0474 - accuracy: 0.9863 - val_loss: 0.0472 - val_accuracy: 0.9851\n",
            "Epoch 70/75\n",
            "469/469 [==============================] - 2s 5ms/step - loss: 0.0467 - accuracy: 0.9863 - val_loss: 0.0470 - val_accuracy: 0.9852\n",
            "Epoch 71/75\n",
            "469/469 [==============================] - 2s 5ms/step - loss: 0.0463 - accuracy: 0.9866 - val_loss: 0.0465 - val_accuracy: 0.9847\n",
            "Epoch 72/75\n",
            "469/469 [==============================] - 3s 6ms/step - loss: 0.0459 - accuracy: 0.9867 - val_loss: 0.0462 - val_accuracy: 0.9848\n",
            "Epoch 73/75\n",
            "469/469 [==============================] - 2s 5ms/step - loss: 0.0454 - accuracy: 0.9866 - val_loss: 0.0458 - val_accuracy: 0.9852\n",
            "Epoch 74/75\n",
            "469/469 [==============================] - 2s 5ms/step - loss: 0.0450 - accuracy: 0.9870 - val_loss: 0.0458 - val_accuracy: 0.9854\n",
            "Epoch 75/75\n",
            "469/469 [==============================] - 2s 5ms/step - loss: 0.0445 - accuracy: 0.9871 - val_loss: 0.0453 - val_accuracy: 0.9858\n"
          ]
        }
      ]
    },
    {
      "cell_type": "code",
      "source": [
        "# Plot the model accuracy on training and validation data\n",
        "print(history.history.keys())\n",
        "\n",
        "f,ax=plt.subplots()\n",
        "ax.plot(history.history[\"accuracy\"])\n",
        "ax.plot(history.history[\"val_accuracy\"],\"--\")\n",
        "ax.legend([\"Train acc\",\"Val acc\"])\n",
        "ax.set_title(\"Train/Val acc per epoch\")\n",
        "ax.set_xlabel(\"Epoch\")\n",
        "ax.set_ylabel(\"acc\")\n",
        "\n",
        "# Plot the model loss on training and val data\n",
        "f,ax=plt.subplots()\n",
        "ax.plot(history.history[\"loss\"])\n",
        "ax.plot(history.history[\"val_loss\"],\"--\")\n",
        "ax.legend([\"Train Loss\",\"Val Loss\"])\n",
        "ax.set_title(\"Train/Val loss per epoch\")\n",
        "ax.set_xlabel(\"Epoch\")\n",
        "ax.set_ylabel(\"Loss\")"
      ],
      "metadata": {
        "colab": {
          "base_uri": "https://localhost:8080/",
          "height": 962
        },
        "id": "P0_jp48LsNoL",
        "outputId": "cb30a1af-fb3f-430a-c53a-26cf0e62589a"
      },
      "execution_count": null,
      "outputs": [
        {
          "output_type": "stream",
          "name": "stdout",
          "text": [
            "dict_keys(['loss', 'accuracy', 'val_loss', 'val_accuracy'])\n"
          ]
        },
        {
          "output_type": "execute_result",
          "data": {
            "text/plain": [
              "Text(0, 0.5, 'Loss')"
            ]
          },
          "metadata": {},
          "execution_count": 10
        },
        {
          "output_type": "display_data",
          "data": {
            "text/plain": [
              "<Figure size 640x480 with 1 Axes>"
            ],
            "image/png": "[encoded data removed]"
          },
          "metadata": {}
        },
        {
          "output_type": "display_data",
          "data": {
            "text/plain": [
              "<Figure size 640x480 with 1 Axes>"
            ],
            "image/png": "[encoded data removed]"
          },
          "metadata": {}
        }
      ]
    },
    {
      "cell_type": "code",
      "source": [
        "score=model.evaluate(x_test,y_test,verbose=0)\n",
        "print(\"Test loss:\",score[0])\n",
        "print(\"Test acc:\",score[1])"
      ],
      "metadata": {
        "colab": {
          "base_uri": "https://localhost:8080/"
        },
        "id": "uKmGFh82ttvg",
        "outputId": "05e8fcc1-deef-474b-84be-8539cc72f81e"
      },
      "execution_count": null,
      "outputs": [
        {
          "output_type": "stream",
          "name": "stdout",
          "text": [
            "Test loss: 0.05566837266087532\n",
            "Test acc: 0.9829999804496765\n"
          ]
        }
      ]
    },
    {
      "cell_type": "code",
      "source": [
        "y_pred=model.predict(x_test)\n",
        "# print(y_pred)\n",
        "y_test_class=np.argmax(y_test,axis=1)\n",
        "print(\"Test Hand written digit\")\n",
        "print(y_test_class)\n",
        "y_pred_class=np.argmax(y_pred,axis=1)\n",
        "print(\"Predicted hand written digit\")\n",
        "print(y_pred_class)"
      ],
      "metadata": {
        "colab": {
          "base_uri": "https://localhost:8080/"
        },
        "id": "jcl9wqk1uEMI",
        "outputId": "d2d8ba67-7c71-42c6-b7b3-f60f23782083"
      },
      "execution_count": null,
      "outputs": [
        {
          "output_type": "stream",
          "name": "stdout",
          "text": [
            "313/313 [==============================] - 1s 2ms/step\n",
            "Test Hand written digit\n",
            "[7 2 1 ... 4 5 6]\n",
            "Predicted hand written digit\n",
            "[7 2 1 ... 4 5 6]\n"
          ]
        }
      ]
    },
    {
      "cell_type": "code",
      "source": [
        "from sklearn.metrics import confusion_matrix,classification_report\n",
        "cr=classification_report(y_test_class,y_pred_class)\n",
        "print(cr)\n",
        "\n",
        "cm=confusion_matrix(y_test_class,y_pred_class)\n",
        "print(cm)"
      ],
      "metadata": {
        "colab": {
          "base_uri": "https://localhost:8080/"
        },
        "id": "rvZKDJBdu1fs",
        "outputId": "e40b3d00-0e36-4d18-8f29-c8bea4b3009b"
      },
      "execution_count": null,
      "outputs": [
        {
          "output_type": "stream",
          "name": "stdout",
          "text": [
            "              precision    recall  f1-score   support\n",
            "\n",
            "           0       0.98      0.99      0.99       980\n",
            "           1       0.99      0.99      0.99      1135\n",
            "           2       0.98      0.99      0.99      1032\n",
            "           3       0.98      0.98      0.98      1010\n",
            "           4       0.99      0.98      0.99       982\n",
            "           5       0.98      0.99      0.98       892\n",
            "           6       0.99      0.98      0.99       958\n",
            "           7       0.98      0.98      0.98      1028\n",
            "           8       0.98      0.98      0.98       974\n",
            "           9       0.98      0.97      0.97      1009\n",
            "\n",
            "    accuracy                           0.98     10000\n",
            "   macro avg       0.98      0.98      0.98     10000\n",
            "weighted avg       0.98      0.98      0.98     10000\n",
            "\n",
            "[[ 970    0    1    0    1    0    2    2    4    0]\n",
            " [   0 1125    2    1    0    1    2    1    3    0]\n",
            " [   0    2 1020    3    1    0    0    3    3    0]\n",
            " [   0    0    3  991    0    6    0    4    5    1]\n",
            " [   0    0    2    1  965    0    2    2    1    9]\n",
            " [   3    0    0    6    0  880    1    1    1    0]\n",
            " [   6    2    1    0    1    2  941    0    5    0]\n",
            " [   1    4    7    3    0    0    0 1009    0    4]\n",
            " [   5    0    2    3    2    1    1    2  955    3]\n",
            " [   3    4    1    5    7    5    0   10    0  974]]\n"
          ]
        }
      ]
    },
    {
      "cell_type": "code",
      "source": [
        "# How many mismatched\n",
        "(np.argmax(y_pred,axis=1)!=np.argmax(y_test,axis=1)).sum()"
      ],
      "metadata": {
        "colab": {
          "base_uri": "https://localhost:8080/"
        },
        "id": "lCd-nSwvvZOA",
        "outputId": "fefa0b35-bc80-48f1-a44f-d8b3ba9b76dd"
      },
      "execution_count": null,
      "outputs": [
        {
          "output_type": "execute_result",
          "data": {
            "text/plain": [
              "170"
            ]
          },
          "metadata": {},
          "execution_count": 14
        }
      ]
    },
    {
      "cell_type": "code",
      "source": [
        "train_loss, train_acc = model.evaluate(x_train, y_train, verbose=0)\n",
        "test_loss, test_acc = model.evaluate(x_test, y_test, verbose=0)\n",
        "print(f'Training Accuracy: {train_acc:.4f}')\n",
        "print(f'Testing Accuracy: {test_acc:.4f}')\n"
      ],
      "metadata": {
        "colab": {
          "base_uri": "https://localhost:8080/"
        },
        "id": "Mxp5T2dmQYgJ",
        "outputId": "186ca964-3e56-4d5a-9557-df3ca7c7b36b"
      },
      "execution_count": null,
      "outputs": [
        {
          "output_type": "stream",
          "name": "stdout",
          "text": [
            "Training Accuracy: 0.9873\n",
            "Testing Accuracy: 0.9858\n"
          ]
        }
      ]
    },
    {
      "cell_type": "code",
      "source": [],
      "metadata": {
        "id": "4QVTtWpeQYX1"
      },
      "execution_count": null,
      "outputs": []
    }
  ]
}